{
 "cells": [
  {
   "cell_type": "markdown",
   "id": "df01b844",
   "metadata": {},
   "source": [
    "## Class 8 - 5th Mar 2023 "
   ]
  },
  {
   "cell_type": "markdown",
   "id": "a6ab4ef8",
   "metadata": {},
   "source": [
    "### Inheritance"
   ]
  },
  {
   "cell_type": "code",
   "execution_count": 2,
   "id": "06035cba",
   "metadata": {},
   "outputs": [],
   "source": [
    "#Single Inheritance\n",
    "class calc():\n",
    "    def add(self,a,b):\n",
    "        print(a+b)\n",
    "    def sub(self,a,b):\n",
    "        print(a-b)"
   ]
  },
  {
   "cell_type": "code",
   "execution_count": 6,
   "id": "44361a69",
   "metadata": {},
   "outputs": [],
   "source": [
    "class calc_new(calc):\n",
    "    def mul(self,a,b):\n",
    "        print(a*b)"
   ]
  },
  {
   "cell_type": "code",
   "execution_count": 7,
   "id": "fb694f3e",
   "metadata": {},
   "outputs": [
    {
     "name": "stdout",
     "output_type": "stream",
     "text": [
      "9\n",
      "1\n",
      "20\n"
     ]
    }
   ],
   "source": [
    "a = calc_new()\n",
    "a.add(5,4)\n",
    "a.sub(5,4)\n",
    "a.mul(5,4)"
   ]
  },
  {
   "cell_type": "code",
   "execution_count": 8,
   "id": "3b871865",
   "metadata": {},
   "outputs": [
    {
     "name": "stdout",
     "output_type": "stream",
     "text": [
      "An animal has been created.\n",
      "A cat has been created.\n",
      "Tom is a 3 year old Siamese cat.\n"
     ]
    }
   ],
   "source": [
    "class Animal:\n",
    "    def __init__(self, name, species):\n",
    "        self.name = name\n",
    "        self.species = species\n",
    "        print(\"An animal has been created.\")\n",
    "    \n",
    "    def show_info(self):\n",
    "        print(f\"{self.name} is a {self.species}.\")\n",
    "\n",
    "class Cat(Animal):\n",
    "    def __init__(self, name, breed, age):\n",
    "        super().__init__(name, species=\"cat\")\n",
    "        self.breed = breed\n",
    "        self.age = age\n",
    "        print(\"A cat has been created.\")\n",
    "    \n",
    "    def show_info(self):\n",
    "        print(f\"{self.name} is a {self.age} year old {self.breed} {self.species}.\")\n",
    "\n",
    "cat1 = Cat(\"Tom\", \"Siamese\", 3)\n",
    "cat1.show_info()\n"
   ]
  },
  {
   "cell_type": "code",
   "execution_count": 9,
   "id": "aedd631f",
   "metadata": {},
   "outputs": [],
   "source": [
    "## multi Inheritance"
   ]
  },
  {
   "cell_type": "code",
   "execution_count": 4,
   "id": "799fd0e5",
   "metadata": {},
   "outputs": [],
   "source": [
    "class parent():\n",
    "    def __init__(self):\n",
    "        self.parent = \"parent\"\n",
    "class child():\n",
    "    \n",
    "    def __init__(self):\n",
    "        self.child = \"child\"\n",
    "\n",
    "class gchild(parent,child):\n",
    "    \n",
    "    def __init__(self):\n",
    "        self.gchild = \"gchild\"\n",
    "        super().__init__()\n",
    "        super(parent,self).__init__()\n",
    "        \n",
    "    def display(self):\n",
    "        print(self.parent)\n",
    "        print(self.child)\n",
    "        print(self.gchild)\n",
    "    "
   ]
  },
  {
   "cell_type": "code",
   "execution_count": 5,
   "id": "8e9e39bf",
   "metadata": {},
   "outputs": [
    {
     "name": "stdout",
     "output_type": "stream",
     "text": [
      "parent\n",
      "child\n",
      "gchild\n"
     ]
    }
   ],
   "source": [
    "a = gchild()\n",
    "a.display()"
   ]
  },
  {
   "cell_type": "code",
   "execution_count": 7,
   "id": "e401f812",
   "metadata": {},
   "outputs": [],
   "source": [
    "## abstraction\n",
    "\n",
    "from abc import ABC, abstractmethod\n",
    "\n",
    "class Shape(ABC):\n",
    "    @abstractmethod\n",
    "    def area(self):\n",
    "        pass\n",
    "    \n",
    "class Rectangle(Shape):\n",
    "    def __init__(self, width, height):\n",
    "        self.width = width\n",
    "        self.height = height\n",
    "    \n",
    "    def area(self):\n",
    "        return self.width * self.height"
   ]
  },
  {
   "cell_type": "code",
   "execution_count": 8,
   "id": "10959fad",
   "metadata": {},
   "outputs": [],
   "source": [
    "##The @abstractmethod decorator is a built-in decorator in Python's abc (Abstract Base Class) module that allows us to define \n",
    "##abstract methods in a class. An abstract method is a method that has a declaration but no implementation, \n",
    "## and it must be implemented by any class that inherits from the abstract class."
   ]
  },
  {
   "cell_type": "code",
   "execution_count": 11,
   "id": "f8f93ae2",
   "metadata": {},
   "outputs": [
    {
     "ename": "TypeError",
     "evalue": "Can't instantiate abstract class Shape with abstract method area",
     "output_type": "error",
     "traceback": [
      "\u001b[1;31m---------------------------------------------------------------------------\u001b[0m",
      "\u001b[1;31mTypeError\u001b[0m                                 Traceback (most recent call last)",
      "\u001b[1;32m~\\AppData\\Local\\Temp/ipykernel_14900/3277745827.py\u001b[0m in \u001b[0;36m<module>\u001b[1;34m\u001b[0m\n\u001b[1;32m----> 1\u001b[1;33m \u001b[0ms\u001b[0m \u001b[1;33m=\u001b[0m \u001b[0mShape\u001b[0m\u001b[1;33m(\u001b[0m\u001b[1;33m)\u001b[0m\u001b[1;33m\u001b[0m\u001b[1;33m\u001b[0m\u001b[0m\n\u001b[0m",
      "\u001b[1;31mTypeError\u001b[0m: Can't instantiate abstract class Shape with abstract method area"
     ]
    }
   ],
   "source": [
    "s = Shape()"
   ]
  },
  {
   "cell_type": "code",
   "execution_count": 12,
   "id": "dfc6043a",
   "metadata": {},
   "outputs": [
    {
     "name": "stdout",
     "output_type": "stream",
     "text": [
      "12\n"
     ]
    }
   ],
   "source": [
    "r = Rectangle(3, 4)\n",
    "print(r.area())"
   ]
  },
  {
   "cell_type": "code",
   "execution_count": null,
   "id": "d01816dc",
   "metadata": {},
   "outputs": [],
   "source": []
  }
 ],
 "metadata": {
  "kernelspec": {
   "display_name": "Python 3 (ipykernel)",
   "language": "python",
   "name": "python3"
  },
  "language_info": {
   "codemirror_mode": {
    "name": "ipython",
    "version": 3
   },
   "file_extension": ".py",
   "mimetype": "text/x-python",
   "name": "python",
   "nbconvert_exporter": "python",
   "pygments_lexer": "ipython3",
   "version": "3.9.7"
  }
 },
 "nbformat": 4,
 "nbformat_minor": 5
}
