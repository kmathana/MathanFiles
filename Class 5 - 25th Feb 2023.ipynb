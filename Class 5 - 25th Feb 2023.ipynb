{
 "cells": [
  {
   "cell_type": "markdown",
   "id": "bb6727f4",
   "metadata": {},
   "source": [
    "## Class 5 - 25th Feb 2023"
   ]
  },
  {
   "cell_type": "code",
   "execution_count": 50,
   "id": "21c3f0b4",
   "metadata": {},
   "outputs": [],
   "source": [
    "a = 10\n",
    "b = 20"
   ]
  },
  {
   "cell_type": "code",
   "execution_count": 3,
   "id": "a6ca8f3f",
   "metadata": {},
   "outputs": [],
   "source": [
    "def add(a,b):\n",
    "    print(a+b)"
   ]
  },
  {
   "cell_type": "code",
   "execution_count": 4,
   "id": "7bc2d8de",
   "metadata": {},
   "outputs": [
    {
     "name": "stdout",
     "output_type": "stream",
     "text": [
      "1005\n"
     ]
    }
   ],
   "source": [
    "add(1000,5)"
   ]
  },
  {
   "cell_type": "code",
   "execution_count": 5,
   "id": "05fbbf3c",
   "metadata": {},
   "outputs": [],
   "source": [
    "# def --> define a function\n",
    "## add --> function name\n",
    "## a,b --> argument name"
   ]
  },
  {
   "cell_type": "code",
   "execution_count": 6,
   "id": "2f51ced6",
   "metadata": {},
   "outputs": [],
   "source": [
    "## local variable\n",
    "## global variable"
   ]
  },
  {
   "cell_type": "code",
   "execution_count": 12,
   "id": "1dfb6560",
   "metadata": {},
   "outputs": [
    {
     "name": "stdout",
     "output_type": "stream",
     "text": [
      "Start of Function\n"
     ]
    }
   ],
   "source": [
    "def add(a,b):\n",
    "    c = a+b\n",
    "    print(\"Start of Function\")\n",
    "    return (a+b)\n",
    "    print(\"after return\")\n",
    "c = add(5,4)"
   ]
  },
  {
   "cell_type": "code",
   "execution_count": 13,
   "id": "7f7c514b",
   "metadata": {},
   "outputs": [
    {
     "name": "stdout",
     "output_type": "stream",
     "text": [
      "Start of Function\n"
     ]
    },
    {
     "data": {
      "text/plain": [
       "15"
      ]
     },
     "execution_count": 13,
     "metadata": {},
     "output_type": "execute_result"
    }
   ],
   "source": [
    "add(10,5)"
   ]
  },
  {
   "cell_type": "code",
   "execution_count": 14,
   "id": "46339acb",
   "metadata": {},
   "outputs": [
    {
     "name": "stdout",
     "output_type": "stream",
     "text": [
      "Start of Function\n"
     ]
    },
    {
     "data": {
      "text/plain": [
       "19"
      ]
     },
     "execution_count": 14,
     "metadata": {},
     "output_type": "execute_result"
    }
   ],
   "source": [
    "add(c,10)"
   ]
  },
  {
   "cell_type": "code",
   "execution_count": 15,
   "id": "89d1f1fe",
   "metadata": {},
   "outputs": [
    {
     "name": "stdout",
     "output_type": "stream",
     "text": [
      "Start of Function\n"
     ]
    },
    {
     "data": {
      "text/plain": [
       "29"
      ]
     },
     "execution_count": 15,
     "metadata": {},
     "output_type": "execute_result"
    }
   ],
   "source": [
    "add (c,20)"
   ]
  },
  {
   "cell_type": "code",
   "execution_count": 16,
   "id": "c94df61d",
   "metadata": {},
   "outputs": [
    {
     "name": "stdout",
     "output_type": "stream",
     "text": [
      "Start of Function\n"
     ]
    },
    {
     "data": {
      "text/plain": [
       "29"
      ]
     },
     "execution_count": 16,
     "metadata": {},
     "output_type": "execute_result"
    }
   ],
   "source": [
    "add(c,20)"
   ]
  },
  {
   "cell_type": "code",
   "execution_count": 18,
   "id": "d158e169",
   "metadata": {},
   "outputs": [
    {
     "name": "stdout",
     "output_type": "stream",
     "text": [
      "welcome\n",
      "hello\n"
     ]
    }
   ],
   "source": [
    "a = \"welcome\" #global\n",
    "def test():\n",
    "    a  = \"hello\" # local\n",
    "    return a\n",
    "print(a)\n",
    "a = test()\n",
    "print(a)"
   ]
  },
  {
   "cell_type": "code",
   "execution_count": 19,
   "id": "305aa4cc",
   "metadata": {},
   "outputs": [
    {
     "name": "stdout",
     "output_type": "stream",
     "text": [
      "hello\n"
     ]
    }
   ],
   "source": [
    "print(a)"
   ]
  },
  {
   "cell_type": "code",
   "execution_count": 21,
   "id": "24f6d8ea",
   "metadata": {},
   "outputs": [],
   "source": [
    "a = \"welcome\" #global\n",
    "def test():\n",
    "    global a\n",
    "    a  = \"hello\" # local\n",
    "    print (a)"
   ]
  },
  {
   "cell_type": "code",
   "execution_count": 24,
   "id": "44489a6c",
   "metadata": {},
   "outputs": [
    {
     "name": "stdout",
     "output_type": "stream",
     "text": [
      "hello\n",
      "hello\n"
     ]
    }
   ],
   "source": [
    "print(a)\n",
    "test()"
   ]
  },
  {
   "cell_type": "code",
   "execution_count": 25,
   "id": "90bad8c8",
   "metadata": {},
   "outputs": [],
   "source": [
    "a = \"welcome\" #global\n",
    "def test():\n",
    "    global a\n",
    "    a  = \"now changed\" # local\n",
    "    print (a)"
   ]
  },
  {
   "cell_type": "code",
   "execution_count": 26,
   "id": "1b47db1e",
   "metadata": {},
   "outputs": [
    {
     "name": "stdout",
     "output_type": "stream",
     "text": [
      "now changed\n"
     ]
    }
   ],
   "source": [
    "test()"
   ]
  },
  {
   "cell_type": "code",
   "execution_count": 28,
   "id": "e13f1d41",
   "metadata": {},
   "outputs": [],
   "source": [
    "def name (f_name, m_name, l_name):\n",
    "    print(\"First Name is: \", f_name)\n",
    "    print(\"Middle Name is: \", m_name)\n",
    "    print(\"Last Name is: \", l_name)"
   ]
  },
  {
   "cell_type": "code",
   "execution_count": 29,
   "id": "42082ce2",
   "metadata": {},
   "outputs": [
    {
     "name": "stdout",
     "output_type": "stream",
     "text": [
      "First Name is:  Sachin\n",
      "Middle Name is:  Ramesh\n",
      "Last Name is:  Tendulkar\n"
     ]
    }
   ],
   "source": [
    "name (\"Sachin\", \"Ramesh\", \"Tendulkar\") #positional Argument"
   ]
  },
  {
   "cell_type": "code",
   "execution_count": 30,
   "id": "141d85e5",
   "metadata": {},
   "outputs": [
    {
     "name": "stdout",
     "output_type": "stream",
     "text": [
      "First Name is:  Sachin\n",
      "Middle Name is:  Ramesh\n",
      "Last Name is:  Tendulkar\n"
     ]
    }
   ],
   "source": [
    "name (m_name = \"Ramesh\", f_name = \"Sachin\", l_name = \"Tendulkar\") #keyword Argument"
   ]
  },
  {
   "cell_type": "code",
   "execution_count": 31,
   "id": "59283dee",
   "metadata": {},
   "outputs": [
    {
     "ename": "SyntaxError",
     "evalue": "non-default argument follows default argument (Temp/ipykernel_7560/2013390622.py, line 1)",
     "output_type": "error",
     "traceback": [
      "\u001b[1;36m  File \u001b[1;32m\"C:\\Users\\k_mat\\AppData\\Local\\Temp/ipykernel_7560/2013390622.py\"\u001b[1;36m, line \u001b[1;32m1\u001b[0m\n\u001b[1;33m    def name (f_name, m_name = None, l_name):\u001b[0m\n\u001b[1;37m                                           ^\u001b[0m\n\u001b[1;31mSyntaxError\u001b[0m\u001b[1;31m:\u001b[0m non-default argument follows default argument\n"
     ]
    }
   ],
   "source": [
    "def name (f_name, m_name = None, l_name):\n",
    "    print(\"First Name is: \", f_name)\n",
    "    print(\"Middle Name is: \", m_name)\n",
    "    print(\"Last Name is: \", l_name)"
   ]
  },
  {
   "cell_type": "code",
   "execution_count": 32,
   "id": "697bcc1f",
   "metadata": {},
   "outputs": [],
   "source": [
    "def name (f_name, m_name, l_name = None):\n",
    "    print(\"First Name is: \", f_name)\n",
    "    print(\"Middle Name is: \", m_name)\n",
    "    print(\"Last Name is: \", l_name)"
   ]
  },
  {
   "cell_type": "code",
   "execution_count": 33,
   "id": "3f1695b1",
   "metadata": {},
   "outputs": [
    {
     "name": "stdout",
     "output_type": "stream",
     "text": [
      "First Name is:  Sachin\n",
      "Middle Name is:  Tendulkar\n",
      "Last Name is:  None\n"
     ]
    }
   ],
   "source": [
    "name(\"Sachin\", \"Tendulkar\")"
   ]
  },
  {
   "cell_type": "code",
   "execution_count": 36,
   "id": "6d04ef70",
   "metadata": {},
   "outputs": [],
   "source": [
    "def test (*args):\n",
    "    print(args)\n",
    "    print(a,b)"
   ]
  },
  {
   "cell_type": "code",
   "execution_count": 37,
   "id": "fd6a03d5",
   "metadata": {},
   "outputs": [
    {
     "name": "stdout",
     "output_type": "stream",
     "text": [
      "('hello', '1', 'world')\n",
      "now changed 20\n"
     ]
    }
   ],
   "source": [
    "test(\"hello\",\"1\",\"world\")"
   ]
  },
  {
   "cell_type": "code",
   "execution_count": 38,
   "id": "29c9d961",
   "metadata": {},
   "outputs": [],
   "source": [
    "def test(**kwargs):\n",
    "    print(kwargs)\n",
    "    name = kwargs.get(\"name\")\n",
    "    state = kwargs.get(\"state\")\n",
    "    print(name, state)\n",
    "    return name, state"
   ]
  },
  {
   "cell_type": "code",
   "execution_count": 39,
   "id": "a84f4618",
   "metadata": {},
   "outputs": [
    {
     "name": "stdout",
     "output_type": "stream",
     "text": [
      "{'name': 'user1', 'add1': 'add', 'add2': 'just some', 'state': 'My State'}\n",
      "user1 My State\n"
     ]
    },
    {
     "data": {
      "text/plain": [
       "('user1', 'My State')"
      ]
     },
     "execution_count": 39,
     "metadata": {},
     "output_type": "execute_result"
    }
   ],
   "source": [
    "test(name = \"user1\", add1 = \"add\", add2 = \"just some\", state = \"My State\")"
   ]
  },
  {
   "cell_type": "code",
   "execution_count": 40,
   "id": "c0502612",
   "metadata": {},
   "outputs": [
    {
     "name": "stdout",
     "output_type": "stream",
     "text": [
      "12\n"
     ]
    }
   ],
   "source": [
    "def mul(a, b, c=1):\n",
    "    print(a*b*c)\n",
    "mul(3,4)"
   ]
  },
  {
   "cell_type": "code",
   "execution_count": 41,
   "id": "0a9b6999",
   "metadata": {},
   "outputs": [
    {
     "name": "stdout",
     "output_type": "stream",
     "text": [
      "27\n"
     ]
    }
   ],
   "source": [
    "mul(3,3,3)"
   ]
  },
  {
   "cell_type": "code",
   "execution_count": 42,
   "id": "08ca9354",
   "metadata": {},
   "outputs": [],
   "source": [
    "## lamda #in line"
   ]
  },
  {
   "cell_type": "code",
   "execution_count": 43,
   "id": "236dcebb",
   "metadata": {},
   "outputs": [
    {
     "name": "stdout",
     "output_type": "stream",
     "text": [
      "9\n"
     ]
    }
   ],
   "source": [
    "def add(a,b):\n",
    "    return a+b\n",
    "c = add(5,4)\n",
    "print(c)"
   ]
  },
  {
   "cell_type": "code",
   "execution_count": 45,
   "id": "7391006c",
   "metadata": {},
   "outputs": [
    {
     "data": {
      "text/plain": [
       "9"
      ]
     },
     "execution_count": 45,
     "metadata": {},
     "output_type": "execute_result"
    }
   ],
   "source": [
    "a = lambda a,b : a+b\n",
    "a(5,4)"
   ]
  },
  {
   "cell_type": "code",
   "execution_count": 49,
   "id": "f2d0c92c",
   "metadata": {},
   "outputs": [
    {
     "data": {
      "text/plain": [
       "(1, 2, 3, 4)"
      ]
     },
     "execution_count": 49,
     "metadata": {},
     "output_type": "execute_result"
    }
   ],
   "source": [
    "a = lambda *args : args\n",
    "a(1,2,3,4)"
   ]
  }
 ],
 "metadata": {
  "kernelspec": {
   "display_name": "Python 3 (ipykernel)",
   "language": "python",
   "name": "python3"
  },
  "language_info": {
   "codemirror_mode": {
    "name": "ipython",
    "version": 3
   },
   "file_extension": ".py",
   "mimetype": "text/x-python",
   "name": "python",
   "nbconvert_exporter": "python",
   "pygments_lexer": "ipython3",
   "version": "3.9.7"
  }
 },
 "nbformat": 4,
 "nbformat_minor": 5
}
