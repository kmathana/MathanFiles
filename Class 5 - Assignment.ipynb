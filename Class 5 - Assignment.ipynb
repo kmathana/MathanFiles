{
 "cells": [
  {
   "cell_type": "markdown",
   "id": "974a96fd",
   "metadata": {},
   "source": [
    "# # Class 5 - Assignment"
   ]
  },
  {
   "cell_type": "markdown",
   "id": "185e6d33",
   "metadata": {},
   "source": [
    "## Question 1 \n",
    "#write a function , take two input as argument\n",
    "#inp : 1 --> [10,1,20,45,6,12,8]\n",
    "#inp :2 --> some integer\n",
    "#ex: inp : 2 --> 1\n",
    "#op = [1,10,20,45,6,12,8]\n",
    "## Question 2\n",
    "/ common function \n",
    "/ arg1 : start num\n",
    "/ arg2 : end num\n",
    "/ arg1 : even/odd\n",
    "/ 10 , 500 , odd --> op : list"
   ]
  },
  {
   "cell_type": "code",
   "execution_count": null,
   "id": "b39a115f",
   "metadata": {},
   "outputs": [],
   "source": []
  }
 ],
 "metadata": {
  "kernelspec": {
   "display_name": "Python 3 (ipykernel)",
   "language": "python",
   "name": "python3"
  },
  "language_info": {
   "codemirror_mode": {
    "name": "ipython",
    "version": 3
   },
   "file_extension": ".py",
   "mimetype": "text/x-python",
   "name": "python",
   "nbconvert_exporter": "python",
   "pygments_lexer": "ipython3",
   "version": "3.9.7"
  }
 },
 "nbformat": 4,
 "nbformat_minor": 5
}
