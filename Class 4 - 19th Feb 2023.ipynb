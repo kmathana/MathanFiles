{
 "cells": [
  {
   "cell_type": "code",
   "execution_count": 1,
   "id": "43e169a0",
   "metadata": {},
   "outputs": [],
   "source": [
    "a = [[\"kiran\",\"20\",\"Chennai\"],[\"Madurai\",\"Kumar\",\"45\"]]"
   ]
  },
  {
   "cell_type": "code",
   "execution_count": 2,
   "id": "c0a29639",
   "metadata": {},
   "outputs": [
    {
     "name": "stdout",
     "output_type": "stream",
     "text": [
      "True\n"
     ]
    }
   ],
   "source": [
    "print(isinstance(a,list))"
   ]
  },
  {
   "cell_type": "code",
   "execution_count": 3,
   "id": "e4381023",
   "metadata": {},
   "outputs": [],
   "source": [
    "a = {\"Name\" : \"Mathankumar\", \"Nationality\" : \"India\" , \"Age\" : 34}\n"
   ]
  },
  {
   "cell_type": "code",
   "execution_count": 4,
   "id": "772139cf",
   "metadata": {},
   "outputs": [
    {
     "name": "stdout",
     "output_type": "stream",
     "text": [
      "Mathankumar\n",
      "34\n",
      "India\n"
     ]
    }
   ],
   "source": [
    "print(a.get(\"Name\"))\n",
    "print(a.get(\"Age\"))\n",
    "print(a.get(\"Nationality\"))"
   ]
  },
  {
   "cell_type": "code",
   "execution_count": 5,
   "id": "9ec87e89",
   "metadata": {},
   "outputs": [
    {
     "name": "stdout",
     "output_type": "stream",
     "text": [
      "dict_keys(['Name', 'Nationality', 'Age'])\n"
     ]
    }
   ],
   "source": [
    "print(a.keys())"
   ]
  },
  {
   "cell_type": "code",
   "execution_count": 6,
   "id": "54def707",
   "metadata": {},
   "outputs": [
    {
     "name": "stdout",
     "output_type": "stream",
     "text": [
      "dict_values(['Mathankumar', 'India', 34])\n"
     ]
    }
   ],
   "source": [
    "print(a.values())"
   ]
  },
  {
   "cell_type": "code",
   "execution_count": 7,
   "id": "00272b60",
   "metadata": {},
   "outputs": [
    {
     "name": "stdout",
     "output_type": "stream",
     "text": [
      "dict_items([('Name', 'Mathankumar'), ('Nationality', 'India'), ('Age', 34)])\n"
     ]
    }
   ],
   "source": [
    "print(a.items())"
   ]
  },
  {
   "cell_type": "code",
   "execution_count": 8,
   "id": "f9c56fd1",
   "metadata": {},
   "outputs": [
    {
     "name": "stdout",
     "output_type": "stream",
     "text": [
      "{'Name': 'Mathankumar', 'Nationality': 'India', 'Age': 34, 'Salary': 300}\n"
     ]
    }
   ],
   "source": [
    "a[\"Salary\"] = 300\n",
    "print(a)"
   ]
  },
  {
   "cell_type": "code",
   "execution_count": 9,
   "id": "55ec4bb3",
   "metadata": {},
   "outputs": [
    {
     "name": "stdout",
     "output_type": "stream",
     "text": [
      "{'Name': 'Mathankumar', 'Nationality': 'India', 'Age': 34}\n",
      "('Salary', 300)\n"
     ]
    }
   ],
   "source": [
    "b = a.popitem()\n",
    "print(a)\n",
    "print(b)"
   ]
  },
  {
   "cell_type": "code",
   "execution_count": 13,
   "id": "81dac683",
   "metadata": {},
   "outputs": [
    {
     "name": "stdout",
     "output_type": "stream",
     "text": [
      "{'Name': 1, 'Nationality': 2, 'Age': 3}\n"
     ]
    }
   ],
   "source": [
    "c = [1, 2, 3]\n",
    "e = [\"Name\", \"Age\", \"Nationality\"]\n",
    "d = dict(zip(a,c))\n",
    "print(d)"
   ]
  },
  {
   "cell_type": "markdown",
   "id": "671216ab",
   "metadata": {},
   "source": [
    "# Data types:  string(), int(), list(), tuple(), set(), dict() - Completed"
   ]
  },
  {
   "cell_type": "markdown",
   "id": "b9f58483",
   "metadata": {},
   "source": [
    "# Arithmatic operators"
   ]
  },
  {
   "cell_type": "code",
   "execution_count": 20,
   "id": "f706fb81",
   "metadata": {},
   "outputs": [
    {
     "name": "stdout",
     "output_type": "stream",
     "text": [
      "+\n",
      "19\n",
      "-\n",
      "1\n",
      "x\n",
      "90\n",
      "^\n",
      "3\n",
      "1.1111111111111112\n",
      "1\n",
      "1\n"
     ]
    }
   ],
   "source": [
    "a = 10\n",
    "b = 9\n",
    "print(\"+\") \n",
    "print(a+b)\n",
    "print(\"-\") \n",
    "print(a-b)\n",
    "print(\"x\") \n",
    "print(a*b)\n",
    "print(\"^\") \n",
    "print(a^b) ## exponential or a**b\n",
    "print(a/b)\n",
    "print(a%b) ## Remainder\n",
    "print(a//b)"
   ]
  },
  {
   "cell_type": "code",
   "execution_count": 22,
   "id": "ce778c9e",
   "metadata": {},
   "outputs": [
    {
     "name": "stdout",
     "output_type": "stream",
     "text": [
      "False\n",
      "True\n",
      "True\n",
      "True\n",
      "False\n"
     ]
    }
   ],
   "source": [
    "## relationale operators\n",
    "print (a==b)\n",
    "print(a!=b)\n",
    "print(a>b)\n",
    "print(a>=b)\n",
    "print(a<b)"
   ]
  },
  {
   "cell_type": "code",
   "execution_count": 23,
   "id": "b7645f60",
   "metadata": {},
   "outputs": [
    {
     "name": "stdout",
     "output_type": "stream",
     "text": [
      "True\n"
     ]
    }
   ],
   "source": [
    "## Logical Operator\n",
    "## and , ## or, ## not\n",
    "print (True and True)"
   ]
  },
  {
   "cell_type": "code",
   "execution_count": 24,
   "id": "edfdc6d7",
   "metadata": {},
   "outputs": [
    {
     "name": "stdout",
     "output_type": "stream",
     "text": [
      "False\n"
     ]
    }
   ],
   "source": [
    "print(True and False)"
   ]
  },
  {
   "cell_type": "code",
   "execution_count": 25,
   "id": "0f9b4521",
   "metadata": {},
   "outputs": [
    {
     "name": "stdout",
     "output_type": "stream",
     "text": [
      "True\n"
     ]
    }
   ],
   "source": [
    "print(True or False)"
   ]
  },
  {
   "cell_type": "code",
   "execution_count": 26,
   "id": "2e025eed",
   "metadata": {},
   "outputs": [
    {
     "name": "stdout",
     "output_type": "stream",
     "text": [
      "False\n"
     ]
    }
   ],
   "source": [
    "print(not True)"
   ]
  },
  {
   "cell_type": "code",
   "execution_count": 27,
   "id": "4c3206b9",
   "metadata": {},
   "outputs": [
    {
     "name": "stdout",
     "output_type": "stream",
     "text": [
      "True\n"
     ]
    }
   ],
   "source": [
    "print (not False)"
   ]
  },
  {
   "cell_type": "code",
   "execution_count": 28,
   "id": "dc4dd59b",
   "metadata": {},
   "outputs": [],
   "source": [
    "### loops"
   ]
  },
  {
   "cell_type": "code",
   "execution_count": 29,
   "id": "1c1b1be6",
   "metadata": {},
   "outputs": [],
   "source": [
    "## if\n",
    "## while\n",
    "## for"
   ]
  },
  {
   "cell_type": "code",
   "execution_count": 30,
   "id": "cdb80a2b",
   "metadata": {},
   "outputs": [],
   "source": [
    "## if loop -> decision making statement"
   ]
  },
  {
   "cell_type": "code",
   "execution_count": 39,
   "id": "93e12f59",
   "metadata": {},
   "outputs": [
    {
     "name": "stdout",
     "output_type": "stream",
     "text": [
      "No\n",
      "********************************\n",
      "No\n"
     ]
    }
   ],
   "source": [
    "name = \"kiran\"\n",
    "mark = 50\n",
    "\n",
    "if name == 'kiran' and mark == \"50\":\n",
    "    print('yes')\n",
    "else:\n",
    "    print('No')\n",
    "print(\"********************************\")\n",
    "\n",
    "name = \"kiran\"\n",
    "mark = 90\n",
    "\n",
    "if name == 'kiran' and mark == \"50\":\n",
    "    print('yes')\n",
    "else:\n",
    "    print('No')"
   ]
  },
  {
   "cell_type": "code",
   "execution_count": 40,
   "id": "c4c6f599",
   "metadata": {},
   "outputs": [
    {
     "name": "stdout",
     "output_type": "stream",
     "text": [
      "First Class\n"
     ]
    }
   ],
   "source": [
    "## nested if\n",
    "if name == \"kiran\" and mark > 35:\n",
    "    if mark > 60:\n",
    "        print(\"First Class\")\n",
    "    else:\n",
    "        print(\"Second Class\")\n",
    "else: \n",
    "    print(\"Fail\")"
   ]
  },
  {
   "cell_type": "code",
   "execution_count": 41,
   "id": "ad39e389",
   "metadata": {},
   "outputs": [
    {
     "name": "stdout",
     "output_type": "stream",
     "text": [
      "A Grade\n"
     ]
    }
   ],
   "source": [
    "## if and elif\n",
    "\n",
    "if mark ==100:\n",
    "    print(\"centum\")\n",
    "elif mark >=90:\n",
    "    print(\"A Grade\")\n",
    "elif mark >=60:\n",
    "    print(\"1st Class\")\n",
    "elif mark >=40:\n",
    "    print(\"3rd Class\")\n",
    "else:\n",
    "    print(\"Fail\")"
   ]
  },
  {
   "cell_type": "code",
   "execution_count": 42,
   "id": "e5023c9b",
   "metadata": {},
   "outputs": [],
   "source": [
    "#while loop"
   ]
  },
  {
   "cell_type": "code",
   "execution_count": null,
   "id": "36db6df0",
   "metadata": {},
   "outputs": [],
   "source": []
  },
  {
   "cell_type": "code",
   "execution_count": 1,
   "id": "1df208d7",
   "metadata": {},
   "outputs": [
    {
     "name": "stdout",
     "output_type": "stream",
     "text": [
      "1\n",
      "2\n",
      "3\n"
     ]
    }
   ],
   "source": [
    "a = 1\n",
    "\n",
    "while a<4:\n",
    "    print(a)\n",
    "    a = a + 1"
   ]
  },
  {
   "cell_type": "code",
   "execution_count": 2,
   "id": "f5f5b342",
   "metadata": {},
   "outputs": [],
   "source": [
    "## for"
   ]
  },
  {
   "cell_type": "code",
   "execution_count": 22,
   "id": "0c0d49bd",
   "metadata": {},
   "outputs": [
    {
     "data": {
      "text/plain": [
       "[10, 11, 12, 13, 14, 15, 16, 17, 18, 19, 20, 21, 22, 23, 24]"
      ]
     },
     "execution_count": 22,
     "metadata": {},
     "output_type": "execute_result"
    }
   ],
   "source": [
    "list(range(10, 25))"
   ]
  },
  {
   "cell_type": "code",
   "execution_count": 4,
   "id": "6e9734de",
   "metadata": {},
   "outputs": [
    {
     "data": {
      "text/plain": [
       "[10, 20, 30, 40]"
      ]
     },
     "execution_count": 4,
     "metadata": {},
     "output_type": "execute_result"
    }
   ],
   "source": [
    "list(range(10, 50, 10))"
   ]
  },
  {
   "cell_type": "code",
   "execution_count": 33,
   "id": "a2f95e38",
   "metadata": {},
   "outputs": [
    {
     "name": "stdout",
     "output_type": "stream",
     "text": [
      "100\n",
      "600\n",
      "1100\n"
     ]
    }
   ],
   "source": [
    "for i in range(100, 1500, 500):\n",
    "    print(i)"
   ]
  },
  {
   "cell_type": "code",
   "execution_count": 48,
   "id": "3de9525d",
   "metadata": {},
   "outputs": [
    {
     "name": "stdout",
     "output_type": "stream",
     "text": [
      "['Hello', 'world,', 'today', 'we', 'are', 'learning', 'python']\n",
      "Python is there\n"
     ]
    }
   ],
   "source": [
    "a = \"Hello world, today we are learning python\"\n",
    "a = a.split(\" \")\n",
    "print(a)\n",
    "for i in a:\n",
    "    if i == \"python\":\n",
    "        print(\"Python is there\")"
   ]
  },
  {
   "cell_type": "code",
   "execution_count": 62,
   "id": "89c00500",
   "metadata": {},
   "outputs": [
    {
     "name": "stdout",
     "output_type": "stream",
     "text": [
      "Hello world, today we are learning python\n"
     ]
    }
   ],
   "source": [
    "a = \"Hello world, today we are learning python\"\n",
    "print(a)"
   ]
  },
  {
   "cell_type": "code",
   "execution_count": 63,
   "id": "d9936dc6",
   "metadata": {},
   "outputs": [
    {
     "name": "stdout",
     "output_type": "stream",
     "text": [
      "['Hello', 'world,', 'today', 'we', 'are', 'learning', 'python']\n"
     ]
    }
   ],
   "source": [
    "a = a.split(\" \")\n",
    "print(a)"
   ]
  },
  {
   "cell_type": "code",
   "execution_count": 64,
   "id": "b0b0e9ae",
   "metadata": {},
   "outputs": [
    {
     "name": "stdout",
     "output_type": "stream",
     "text": [
      "Hello\n",
      "world,\n",
      "today\n",
      "we\n",
      "are\n",
      "learning\n",
      "python\n"
     ]
    }
   ],
   "source": [
    "for i in a:\n",
    "    print(i)"
   ]
  },
  {
   "cell_type": "code",
   "execution_count": 65,
   "id": "0f39393b",
   "metadata": {},
   "outputs": [],
   "source": [
    "a = {\"Name\" : \"Mathankumar\", \"Nationality\" : \"India\" , \"Age\" : 34}"
   ]
  },
  {
   "cell_type": "code",
   "execution_count": 66,
   "id": "bd45ddb2",
   "metadata": {},
   "outputs": [
    {
     "data": {
      "text/plain": [
       "dict_keys(['Name', 'Nationality', 'Age'])"
      ]
     },
     "execution_count": 66,
     "metadata": {},
     "output_type": "execute_result"
    }
   ],
   "source": [
    "a.keys()"
   ]
  },
  {
   "cell_type": "code",
   "execution_count": 67,
   "id": "a678624d",
   "metadata": {},
   "outputs": [
    {
     "name": "stdout",
     "output_type": "stream",
     "text": [
      "Name\n",
      "Nationality\n",
      "Age\n"
     ]
    }
   ],
   "source": [
    "for i in a.keys():\n",
    "    print(i)"
   ]
  },
  {
   "cell_type": "code",
   "execution_count": 68,
   "id": "3305eed6",
   "metadata": {},
   "outputs": [
    {
     "name": "stdout",
     "output_type": "stream",
     "text": [
      "Mathankumar\n",
      "India\n",
      "34\n"
     ]
    }
   ],
   "source": [
    "for i in a.values():\n",
    "    print(i)"
   ]
  },
  {
   "cell_type": "code",
   "execution_count": 69,
   "id": "3ae96959",
   "metadata": {},
   "outputs": [
    {
     "name": "stdout",
     "output_type": "stream",
     "text": [
      "('Name', 'Mathankumar')\n",
      "('Nationality', 'India')\n",
      "('Age', 34)\n"
     ]
    }
   ],
   "source": [
    "for i in a.items():\n",
    "    print(i)"
   ]
  },
  {
   "cell_type": "code",
   "execution_count": 79,
   "id": "527cee8f",
   "metadata": {},
   "outputs": [
    {
     "name": "stdout",
     "output_type": "stream",
     "text": [
      "Name\n",
      "Mathankumar\n",
      "Nationality\n",
      "India\n",
      "Age\n",
      "34\n"
     ]
    }
   ],
   "source": [
    "for key, value in a.items():\n",
    "    print(key)\n",
    "    print(value)"
   ]
  },
  {
   "cell_type": "code",
   "execution_count": 82,
   "id": "e7c9be1e",
   "metadata": {},
   "outputs": [
    {
     "data": {
      "text/plain": [
       "[10, 12, 14, 16, 18]"
      ]
     },
     "execution_count": 82,
     "metadata": {},
     "output_type": "execute_result"
    }
   ],
   "source": [
    "list(range(10,20,2))"
   ]
  },
  {
   "cell_type": "code",
   "execution_count": 87,
   "id": "5ead6271",
   "metadata": {},
   "outputs": [
    {
     "name": "stdout",
     "output_type": "stream",
     "text": [
      "[10, 12, 14, 16, 18]\n"
     ]
    }
   ],
   "source": [
    "l = []\n",
    "for i in range(10, 20):\n",
    "    if i % 2 == 0:\n",
    "        l.append(i)\n",
    "print(l)"
   ]
  },
  {
   "cell_type": "code",
   "execution_count": 110,
   "id": "6bd09bd5",
   "metadata": {},
   "outputs": [
    {
     "name": "stdout",
     "output_type": "stream",
     "text": [
      "#1 - Answer\n"
     ]
    },
    {
     "ename": "NameError",
     "evalue": "name 'Counter' is not defined",
     "output_type": "error",
     "traceback": [
      "\u001b[1;31m---------------------------------------------------------------------------\u001b[0m",
      "\u001b[1;31mNameError\u001b[0m                                 Traceback (most recent call last)",
      "\u001b[1;32m~\\AppData\\Local\\Temp/ipykernel_17948/560923412.py\u001b[0m in \u001b[0;36m<module>\u001b[1;34m\u001b[0m\n\u001b[0;32m      4\u001b[0m \u001b[1;31m#3 Duplicate Fruit List\u001b[0m\u001b[1;33m\u001b[0m\u001b[1;33m\u001b[0m\u001b[0m\n\u001b[0;32m      5\u001b[0m \u001b[0mprint\u001b[0m\u001b[1;33m(\u001b[0m\u001b[1;34m\"#1 - Answer\"\u001b[0m\u001b[1;33m)\u001b[0m\u001b[1;33m\u001b[0m\u001b[1;33m\u001b[0m\u001b[0m\n\u001b[1;32m----> 6\u001b[1;33m \u001b[0mCounter\u001b[0m\u001b[1;33m(\u001b[0m\u001b[0ma\u001b[0m\u001b[1;33m)\u001b[0m\u001b[1;33m\u001b[0m\u001b[1;33m\u001b[0m\u001b[0m\n\u001b[0m\u001b[0;32m      7\u001b[0m \u001b[0mprint\u001b[0m\u001b[1;33m(\u001b[0m\u001b[0mfruit\u001b[0m\u001b[1;33m.\u001b[0m\u001b[0mcount\u001b[0m\u001b[1;33m(\u001b[0m\u001b[1;33m)\u001b[0m\u001b[1;33m)\u001b[0m\u001b[1;33m\u001b[0m\u001b[1;33m\u001b[0m\u001b[0m\n\u001b[0;32m      8\u001b[0m \u001b[0mprint\u001b[0m\u001b[1;33m(\u001b[0m\u001b[1;34m\"************************\"\u001b[0m\u001b[1;33m)\u001b[0m\u001b[1;33m\u001b[0m\u001b[1;33m\u001b[0m\u001b[0m\n",
      "\u001b[1;31mNameError\u001b[0m: name 'Counter' is not defined"
     ]
    }
   ],
   "source": [
    "a = [\"apple\", \"apple\", \"mango\", \"mango\", \"orange\"]\n",
    "# Fruit : Count\n",
    "#2 Unique Fruit List\n",
    "#3 Duplicate Fruit List\n",
    "print(\"#1 - Answer\")\n",
    "Counter(a)\n",
    "print(fruit.count())\n",
    "print(\"************************\")\n",
    "print(\"#2 - Answer\")\n",
    "print(set(a))"
   ]
  },
  {
   "cell_type": "code",
   "execution_count": null,
   "id": "e4370a7c",
   "metadata": {},
   "outputs": [],
   "source": []
  }
 ],
 "metadata": {
  "kernelspec": {
   "display_name": "Python 3 (ipykernel)",
   "language": "python",
   "name": "python3"
  },
  "language_info": {
   "codemirror_mode": {
    "name": "ipython",
    "version": 3
   },
   "file_extension": ".py",
   "mimetype": "text/x-python",
   "name": "python",
   "nbconvert_exporter": "python",
   "pygments_lexer": "ipython3",
   "version": "3.9.7"
  }
 },
 "nbformat": 4,
 "nbformat_minor": 5
}
