{
 "cells": [
  {
   "cell_type": "markdown",
   "id": "424fb421",
   "metadata": {},
   "source": [
    "## Class 4 - Assignment\n",
    "\n",
    "1. Get the Unique list of Domain names and UserNames\n",
    "emails = ['arjun.srinivasan@gmail.com', 'deepa.murugan@yahoo.co.in', 'karthik.rajan@rediffmail.com', 'uma.balaji@hotmail.com', 'mohan.ramesh@outlook.com', 'priya.venkatesh@mail.com', 'siva.kumar@hotmail.com', 'aishwarya.narayanan@icloud.com', 'vijay.shankar@zoho.com', 'geetha.subramanian@hotmail.com']\n",
    "\n",
    "\n",
    "2. Get the list of Unique Fruite names, Count the fruites, and show the duplicated fruits only\n",
    "fruits = ['Apple', 'Banana', 'Orange', 'Mango', 'Pineapple', 'Kiwi', 'Papaya', 'Grapes', 'Watermelon', 'Cherry', 'Peach', 'Pear', 'Guava', 'Plum', 'Blueberry', 'Strawberry', 'Raspberry', 'Blackberry', 'Apricot', 'Fig', 'Lemon', 'Lime', 'Grapefruit', 'Avocado', 'Coconut', 'Pomegranate', 'Cranberry', 'Passionfruit', 'Persimmon', 'Tangerine']"
   ]
  },
  {
   "cell_type": "code",
   "execution_count": 5,
   "id": "a022199a",
   "metadata": {},
   "outputs": [],
   "source": [
    "emails = ['arjun.srinivasan@gmail.com', 'deepa.murugan@yahoo.co.in', 'karthik.rajan@rediffmail.com', 'uma.balaji@hotmail.com', 'mohan.ramesh@outlook.com', 'priya.venkatesh@mail.com', 'siva.kumar@hotmail.com', 'aishwarya.narayanan@icloud.com', 'vijay.shankar@zoho.com', 'geetha.subramanian@hotmail.com']"
   ]
  },
  {
   "cell_type": "markdown",
   "id": "017dc9f2",
   "metadata": {},
   "source": [
    "### Question 1"
   ]
  },
  {
   "cell_type": "code",
   "execution_count": 6,
   "id": "6ef9148e",
   "metadata": {},
   "outputs": [
    {
     "name": "stdout",
     "output_type": "stream",
     "text": [
      "{'hotmail.com', 'gmail.com', 'icloud.com', 'mail.com', 'zoho.com', 'yahoo.co.in', 'rediffmail.com', 'outlook.com'}\n"
     ]
    }
   ],
   "source": [
    "domain = set()\n",
    "for i in emails:\n",
    "    split = i.split(\"@\")\n",
    "    domain.add(split[1])\n",
    "print(domain)"
   ]
  },
  {
   "cell_type": "code",
   "execution_count": 7,
   "id": "c93a5b73",
   "metadata": {},
   "outputs": [
    {
     "name": "stdout",
     "output_type": "stream",
     "text": [
      "{'priya.venkatesh', 'aishwarya.narayanan', 'karthik.rajan', 'siva.kumar', 'deepa.murugan', 'arjun.srinivasan', 'mohan.ramesh', 'geetha.subramanian', 'uma.balaji', 'vijay.shankar'}\n"
     ]
    }
   ],
   "source": [
    "names = set()\n",
    "for i in emails:\n",
    "    split = i.split(\"@\")\n",
    "    names.add(split[0])\n",
    "print (names)\n",
    "    "
   ]
  },
  {
   "cell_type": "markdown",
   "id": "64512add",
   "metadata": {},
   "source": [
    "### Question 2"
   ]
  },
  {
   "cell_type": "code",
   "execution_count": 8,
   "id": "76453ea1",
   "metadata": {},
   "outputs": [],
   "source": [
    "fruits = ['Apple', 'Banana', 'Orange', 'Mango', 'Apricot', 'Fig', 'Lemon', 'Lime', 'Grapefruit', 'Avocado', 'Coconut','Apple', 'Banana', 'Orange', 'Mango', 'Pineapple' ]\n"
   ]
  },
  {
   "cell_type": "code",
   "execution_count": 14,
   "id": "1881840a",
   "metadata": {},
   "outputs": [
    {
     "data": {
      "text/plain": [
       "{'Apple',\n",
       " 'Apricot',\n",
       " 'Avocado',\n",
       " 'Banana',\n",
       " 'Coconut',\n",
       " 'Fig',\n",
       " 'Grapefruit',\n",
       " 'Lemon',\n",
       " 'Lime',\n",
       " 'Mango',\n",
       " 'Orange',\n",
       " 'Pineapple'}"
      ]
     },
     "execution_count": 14,
     "metadata": {},
     "output_type": "execute_result"
    }
   ],
   "source": [
    "#Q1 - Ans\n",
    "set(fruits)"
   ]
  },
  {
   "cell_type": "code",
   "execution_count": 10,
   "id": "27d6d18f",
   "metadata": {},
   "outputs": [
    {
     "name": "stdout",
     "output_type": "stream",
     "text": [
      "Fig = 1\n",
      "Coconut = 1\n",
      "Apple = 2\n",
      "Orange = 2\n",
      "Avocado = 1\n",
      "Pineapple = 1\n",
      "Banana = 2\n",
      "Grapefruit = 1\n",
      "Lime = 1\n",
      "Mango = 2\n",
      "Apricot = 1\n",
      "Lemon = 1\n"
     ]
    }
   ],
   "source": [
    "#Q2 - Ans1\n",
    "#method 1\n",
    "unique_fruits = set(fruits)\n",
    "\n",
    "for i in unique_fruits:\n",
    "    count = fruits.count(i)\n",
    "    print(i,\"=\",count)\n",
    "    "
   ]
  },
  {
   "cell_type": "code",
   "execution_count": 15,
   "id": "74c3e4ae",
   "metadata": {},
   "outputs": [
    {
     "name": "stdout",
     "output_type": "stream",
     "text": [
      "Apple = 2\n",
      "Banana = 2\n",
      "Orange = 2\n",
      "Mango = 2\n",
      "Apricot = 1\n",
      "Fig = 1\n",
      "Lemon = 1\n",
      "Lime = 1\n",
      "Grapefruit = 1\n",
      "Avocado = 1\n",
      "Coconut = 1\n",
      "Pineapple = 1\n"
     ]
    }
   ],
   "source": [
    "#Q2 - Ans2\n",
    "#method 2\n",
    "counts = {}\n",
    "for i in fruits:\n",
    "    if i in counts:\n",
    "        counts[i] += 1\n",
    "    else:\n",
    "        counts[i] = 1\n",
    "for i, count in counts.items():\n",
    "    print(i, \"=\",count)\n",
    "    "
   ]
  },
  {
   "cell_type": "code",
   "execution_count": 23,
   "id": "70a4b2e4",
   "metadata": {},
   "outputs": [
    {
     "name": "stdout",
     "output_type": "stream",
     "text": [
      "['Apple', 'Banana', 'Orange', 'Mango']\n"
     ]
    }
   ],
   "source": [
    "#Q3 - Ans\n",
    "firstList = []\n",
    "secondList = []\n",
    "for i in fruits:\n",
    "    if i not in firstList:\n",
    "        firstList.append(i)\n",
    "    else:\n",
    "        secondList.append(i)\n",
    "print(secondList)"
   ]
  }
 ],
 "metadata": {
  "kernelspec": {
   "display_name": "Python 3 (ipykernel)",
   "language": "python",
   "name": "python3"
  },
  "language_info": {
   "codemirror_mode": {
    "name": "ipython",
    "version": 3
   },
   "file_extension": ".py",
   "mimetype": "text/x-python",
   "name": "python",
   "nbconvert_exporter": "python",
   "pygments_lexer": "ipython3",
   "version": "3.9.7"
  }
 },
 "nbformat": 4,
 "nbformat_minor": 5
}
