{
 "cells": [
  {
   "cell_type": "code",
   "execution_count": 1,
   "id": "fab3d4c7",
   "metadata": {},
   "outputs": [],
   "source": [
    "## filter, map, reduce\n",
    "## it takes two arguments, funtion name, input to the function\n",
    "## filter rerurns only true value"
   ]
  },
  {
   "cell_type": "code",
   "execution_count": 20,
   "id": "14a22f04",
   "metadata": {},
   "outputs": [],
   "source": [
    "## filter\n",
    "\n",
    "def even(n):\n",
    "    print(\"Function has started\")\n",
    "    if n%2 != 0:\n",
    "        return True\n",
    "    else:\n",
    "        return False"
   ]
  },
  {
   "cell_type": "code",
   "execution_count": 21,
   "id": "594050ea",
   "metadata": {},
   "outputs": [
    {
     "name": "stdout",
     "output_type": "stream",
     "text": [
      "<filter object at 0x000001587E8C3B50>\n"
     ]
    }
   ],
   "source": [
    "a = [1,2,3,4,5,6,7,8]\n",
    "b = filter(even,a)\n",
    "print((b))"
   ]
  },
  {
   "cell_type": "code",
   "execution_count": 22,
   "id": "0269f38b",
   "metadata": {},
   "outputs": [
    {
     "name": "stdout",
     "output_type": "stream",
     "text": [
      "Function has started\n",
      "Function has started\n",
      "Function has started\n",
      "Function has started\n",
      "Function has started\n",
      "Function has started\n",
      "Function has started\n",
      "Function has started\n",
      "[1, 3, 5, 7]\n"
     ]
    }
   ],
   "source": [
    "c = list(b)\n",
    "print(c)"
   ]
  },
  {
   "cell_type": "code",
   "execution_count": 23,
   "id": "4b5a8cf7",
   "metadata": {},
   "outputs": [
    {
     "name": "stdout",
     "output_type": "stream",
     "text": [
      "[1, 3]\n"
     ]
    }
   ],
   "source": [
    "print(c[0:2])"
   ]
  },
  {
   "cell_type": "code",
   "execution_count": 25,
   "id": "d1a5a56a",
   "metadata": {},
   "outputs": [
    {
     "name": "stdout",
     "output_type": "stream",
     "text": [
      "[1, 3, 5, 7]\n"
     ]
    }
   ],
   "source": [
    "a = [1,2,3,4,5,6,7,8]\n",
    "print(list(filter(lambda x:x%2!=0,a)))\n"
   ]
  },
  {
   "cell_type": "code",
   "execution_count": 27,
   "id": "4d075678",
   "metadata": {},
   "outputs": [
    {
     "name": "stdout",
     "output_type": "stream",
     "text": [
      "Function has started\n",
      "Function has started\n",
      "Function has started\n",
      "Function has started\n",
      "Function has started\n",
      "Function has started\n",
      "Function has started\n",
      "Function has started\n",
      "[True, False, True, False, True, False, True, False]\n"
     ]
    }
   ],
   "source": [
    "## map\n",
    "a = [1,2,3,4,5,6,7,8]\n",
    "b = map(even,a)\n",
    "print(list(b))"
   ]
  },
  {
   "cell_type": "code",
   "execution_count": 28,
   "id": "450b7e6a",
   "metadata": {},
   "outputs": [
    {
     "name": "stdout",
     "output_type": "stream",
     "text": [
      "[True, False, True, False, True, False, True, False]\n"
     ]
    }
   ],
   "source": [
    "a = [1,2,3,4,5,6,7,8]\n",
    "print(list(map(lambda x:x%2!=0,a)))"
   ]
  },
  {
   "cell_type": "code",
   "execution_count": 29,
   "id": "1781f5db",
   "metadata": {},
   "outputs": [
    {
     "name": "stdout",
     "output_type": "stream",
     "text": [
      "15\n"
     ]
    }
   ],
   "source": [
    "## reduce\n",
    "\n",
    "from functools import reduce\n",
    "\n",
    "numbers = [1, 2, 3, 4, 5]\n",
    "\n",
    "def add(x, y):\n",
    "    return x + y\n",
    "\n",
    "sum_of_numbers = reduce(add, numbers)\n",
    "\n",
    "print(sum_of_numbers)\n"
   ]
  },
  {
   "cell_type": "code",
   "execution_count": 30,
   "id": "ff7bcb71",
   "metadata": {},
   "outputs": [
    {
     "name": "stdout",
     "output_type": "stream",
     "text": [
      "15\n"
     ]
    }
   ],
   "source": [
    "sum_of_numbers = reduce(lambda x, y: x + y, numbers)\n",
    "print(sum_of_numbers)"
   ]
  },
  {
   "cell_type": "code",
   "execution_count": null,
   "id": "1686cf4b",
   "metadata": {},
   "outputs": [],
   "source": [
    "## ## filter, map, reduce"
   ]
  },
  {
   "cell_type": "code",
   "execution_count": 32,
   "id": "06062a45",
   "metadata": {},
   "outputs": [
    {
     "name": "stdout",
     "output_type": "stream",
     "text": [
      "[4, 16]\n"
     ]
    }
   ],
   "source": [
    "squares_of_even_numbers = [x ** 2 for x in numbers if x % 2 == 0]\n",
    "print(squares_of_even_numbers)"
   ]
  },
  {
   "cell_type": "code",
   "execution_count": 34,
   "id": "49d11887",
   "metadata": {},
   "outputs": [
    {
     "name": "stdout",
     "output_type": "stream",
     "text": [
      "[0, 1, 2, 3, 4, 5, 6, 7, 8, 9, 10]\n"
     ]
    }
   ],
   "source": [
    "add_numbers = [x for x in range(11)]\n",
    "print(add_numbers)"
   ]
  },
  {
   "cell_type": "code",
   "execution_count": 35,
   "id": "23cc49c9",
   "metadata": {},
   "outputs": [
    {
     "name": "stdout",
     "output_type": "stream",
     "text": [
      "Value\n"
     ]
    }
   ],
   "source": [
    "a = (1,2,3)\n",
    "if bool(a):\n",
    "    print(\"Value\")\n",
    "else:\n",
    "    print(\"No\")"
   ]
  },
  {
   "cell_type": "code",
   "execution_count": 36,
   "id": "f02566f4",
   "metadata": {},
   "outputs": [
    {
     "name": "stdout",
     "output_type": "stream",
     "text": [
      "No\n"
     ]
    }
   ],
   "source": [
    "b = ()\n",
    "if bool(b):\n",
    "    print(\"Value\")\n",
    "else:\n",
    "    print(\"No\")"
   ]
  },
  {
   "cell_type": "code",
   "execution_count": 37,
   "id": "8ad7ccc2",
   "metadata": {},
   "outputs": [
    {
     "name": "stdout",
     "output_type": "stream",
     "text": [
      "yes\n"
     ]
    }
   ],
   "source": [
    "a = (\"test\", \"demo\", \"hello\")\n",
    "if \"hi\" not in a:\n",
    "    print(\"yes\")"
   ]
  },
  {
   "cell_type": "code",
   "execution_count": 38,
   "id": "eb3bd209",
   "metadata": {},
   "outputs": [
    {
     "name": "stdout",
     "output_type": "stream",
     "text": [
      "yes\n"
     ]
    }
   ],
   "source": [
    "a = (\"test\", \"demo\", \"hello\")\n",
    "if \"test\" in a:\n",
    "    print(\"yes\")"
   ]
  },
  {
   "cell_type": "code",
   "execution_count": 39,
   "id": "050d1745",
   "metadata": {},
   "outputs": [
    {
     "name": "stdout",
     "output_type": "stream",
     "text": [
      "[('test', 1), ('demo', 2), ('hello', 3)]\n"
     ]
    }
   ],
   "source": [
    "##dict comprehension\n",
    "a = (\"test\", \"demo\", \"hello\")\n",
    "b = {1, 2, 3}\n",
    "c = zip(a,b)\n",
    "print(list(c))\n",
    " "
   ]
  },
  {
   "cell_type": "code",
   "execution_count": 43,
   "id": "5c860533",
   "metadata": {},
   "outputs": [
    {
     "name": "stdout",
     "output_type": "stream",
     "text": [
      "9\n"
     ]
    }
   ],
   "source": [
    "import random\n",
    "a = [0, 1, 2, 3, 4, 5, 6, 7, 8, 9, 10]\n",
    "\n",
    "print(random.choice(a))"
   ]
  },
  {
   "cell_type": "code",
   "execution_count": 44,
   "id": "2a1d352e",
   "metadata": {},
   "outputs": [
    {
     "name": "stdout",
     "output_type": "stream",
     "text": [
      "[6, 10, 3, 4, 7]\n"
     ]
    }
   ],
   "source": [
    "print(random.sample(a,5))"
   ]
  },
  {
   "cell_type": "code",
   "execution_count": 49,
   "id": "11acc6a2",
   "metadata": {},
   "outputs": [
    {
     "name": "stdout",
     "output_type": "stream",
     "text": [
      "[2, 5, 10, 1, 8, 7, 3, 9, 6, 0, 4]\n"
     ]
    }
   ],
   "source": [
    "random.shuffle(a)\n",
    "print(a)"
   ]
  },
  {
   "cell_type": "code",
   "execution_count": 50,
   "id": "45a35023",
   "metadata": {},
   "outputs": [
    {
     "name": "stdout",
     "output_type": "stream",
     "text": [
      "212\n"
     ]
    }
   ],
   "source": [
    "print(random.randrange(0,500))"
   ]
  },
  {
   "cell_type": "code",
   "execution_count": 51,
   "id": "7316c1b9",
   "metadata": {},
   "outputs": [
    {
     "name": "stdout",
     "output_type": "stream",
     "text": [
      "4.14654764328343\n"
     ]
    }
   ],
   "source": [
    "print(random.uniform(1,5))"
   ]
  },
  {
   "cell_type": "code",
   "execution_count": 52,
   "id": "b09d261e",
   "metadata": {},
   "outputs": [
    {
     "name": "stdout",
     "output_type": "stream",
     "text": [
      "abcdefghijklmnopqrstuvwxyzABCDEFGHIJKLMNOPQRSTUVWXYZ\n"
     ]
    }
   ],
   "source": [
    "import string\n",
    "import random\n",
    "print(string.ascii_letters)"
   ]
  },
  {
   "cell_type": "code",
   "execution_count": 56,
   "id": "2e6356d2",
   "metadata": {},
   "outputs": [
    {
     "name": "stdout",
     "output_type": "stream",
     "text": [
      "g\n",
      "4\n"
     ]
    }
   ],
   "source": [
    "print(random.choice(string.ascii_letters))\n",
    "print(random.randint(0,9))"
   ]
  },
  {
   "cell_type": "code",
   "execution_count": 60,
   "id": "ef4280c5",
   "metadata": {},
   "outputs": [
    {
     "data": {
      "text/plain": [
       "'ZIaHEbKqqH'"
      ]
     },
     "execution_count": 60,
     "metadata": {},
     "output_type": "execute_result"
    }
   ],
   "source": [
    "\"\".join(random.choice(string.ascii_letters) for i in range(10))"
   ]
  },
  {
   "cell_type": "code",
   "execution_count": 61,
   "id": "6a21e42c",
   "metadata": {},
   "outputs": [
    {
     "name": "stdout",
     "output_type": "stream",
     "text": [
      "!\"#$%&'()*+,-./:;<=>?@[\\]^_`{|}~\n"
     ]
    }
   ],
   "source": [
    "print(string.punctuation)"
   ]
  },
  {
   "cell_type": "code",
   "execution_count": 62,
   "id": "3abec8aa",
   "metadata": {},
   "outputs": [
    {
     "name": "stdout",
     "output_type": "stream",
     "text": [
      ">\n"
     ]
    }
   ],
   "source": [
    "print(random.choice(string.punctuation))"
   ]
  },
  {
   "cell_type": "code",
   "execution_count": 63,
   "id": "556a5529",
   "metadata": {},
   "outputs": [
    {
     "name": "stdout",
     "output_type": "stream",
     "text": [
      "0123456789\n"
     ]
    }
   ],
   "source": [
    "print(string.digits)"
   ]
  },
  {
   "cell_type": "code",
   "execution_count": 66,
   "id": "7e1766d0",
   "metadata": {},
   "outputs": [
    {
     "data": {
      "text/plain": [
       "\"|v|-Hh'GkEQZ}^0W]T3i\""
      ]
     },
     "execution_count": 66,
     "metadata": {},
     "output_type": "execute_result"
    }
   ],
   "source": [
    "\"\".join(random.choice(string.ascii_letters + string.digits + string.punctuation) for i in range(20))"
   ]
  },
  {
   "cell_type": "code",
   "execution_count": 67,
   "id": "1e35a2d8",
   "metadata": {},
   "outputs": [
    {
     "name": "stdout",
     "output_type": "stream",
     "text": [
      "23\n",
      "-22\n",
      "22\n"
     ]
    }
   ],
   "source": [
    "import math\n",
    "print(math.ceil(22.09))\n",
    "print(math.ceil(-22.09))\n",
    "print(math.ceil(22))"
   ]
  },
  {
   "cell_type": "code",
   "execution_count": 68,
   "id": "e713bde6",
   "metadata": {},
   "outputs": [
    {
     "name": "stdout",
     "output_type": "stream",
     "text": [
      "22\n",
      "-23\n",
      "22\n"
     ]
    }
   ],
   "source": [
    "print(math.floor(22.09))\n",
    "print(math.floor(-22.09))\n",
    "print(math.floor(22))"
   ]
  },
  {
   "cell_type": "code",
   "execution_count": 70,
   "id": "b673273b",
   "metadata": {},
   "outputs": [
    {
     "name": "stdout",
     "output_type": "stream",
     "text": [
      "22\n",
      "-22\n",
      "22\n"
     ]
    }
   ],
   "source": [
    "print(round(22.09))\n",
    "print(round(-22.09))\n",
    "print(round(22))"
   ]
  },
  {
   "cell_type": "code",
   "execution_count": 71,
   "id": "15ec9537",
   "metadata": {},
   "outputs": [
    {
     "name": "stdout",
     "output_type": "stream",
     "text": [
      "text,label\n",
      "\n",
      "\"Line Leak, Components:  [Pipe], Tasks: [Pipe replacement]\",Pipe Line Replacement\n",
      "\n",
      "\"Pipe Leak, Components: [Pipe], Tasks: [Erect Scaffolding, Replace the line, Conduct Inspection, Remove Scaffolding]\",Pipe Line Replacement\n",
      "\n",
      "\"Pipe Leak, Components: [] Tasks: [Perform Welding]\",Pipe Repair Works\n",
      "\n",
      "\"Low Seal Pot level, Components: [Seal Mechanical, Gaskets] Tasks: [Replace the seal]\",Mechanical Seal Replacement\n",
      "\n",
      "\"Seal Leak,  Components: [Seal Mechanical, Gaskets] Tasks: [Erect Scaffolding, Replace the seal, , Remove Scaffolding]\",Mechanical Seal Replacement\n",
      "\n",
      "\"Seal Pot Level Low and Seal leak, Components: [Gaskets] Tasks: [Replace the seal]\",Mechanical Seal Replacement\n",
      "\n",
      "\"Top up seal pot, Components: [] Tasks: [Top up up the seal pot]\",Seal Pot Top Up\n",
      "\n",
      "\"Choked Strainer, Components: [] Tasks: [Clean the strainer]\",Filter Cleaning\n",
      "\n",
      "\"High DP, Components: [Filter] Tasks: [Replace the filter]\",Filter Replacement\n",
      "\n",
      "\"Choked Filter, Components: [Filter] Tasks: [Replace the filter]\",Filter Replacement\n",
      "\n",
      "\"Replace the filter bag , Components: [Filter, Gaskets] Tasks: [Filter bag Replacement]\",Filter Replacement\n",
      "\n"
     ]
    }
   ],
   "source": [
    "file = open(r\"C:\\Users\\k_mat\\Python\\Training\\text_classifier_with_labels.csv\",\"r\")\n",
    "for i in file:\n",
    "    print(i)"
   ]
  },
  {
   "cell_type": "code",
   "execution_count": 72,
   "id": "dcdeaf0d",
   "metadata": {},
   "outputs": [],
   "source": [
    "file.close()"
   ]
  },
  {
   "cell_type": "code",
   "execution_count": 77,
   "id": "9a819d61",
   "metadata": {},
   "outputs": [],
   "source": [
    "## Pandas\n",
    "import pandas as pd\n",
    "data = pd.read_csv(r\"C:\\Users\\k_mat\\Python\\Training\\text_classifier_with_labels.csv\")\n"
   ]
  },
  {
   "cell_type": "code",
   "execution_count": 79,
   "id": "52e73116",
   "metadata": {},
   "outputs": [
    {
     "data": {
      "text/html": [
       "<div>\n",
       "<style scoped>\n",
       "    .dataframe tbody tr th:only-of-type {\n",
       "        vertical-align: middle;\n",
       "    }\n",
       "\n",
       "    .dataframe tbody tr th {\n",
       "        vertical-align: top;\n",
       "    }\n",
       "\n",
       "    .dataframe thead th {\n",
       "        text-align: right;\n",
       "    }\n",
       "</style>\n",
       "<table border=\"1\" class=\"dataframe\">\n",
       "  <thead>\n",
       "    <tr style=\"text-align: right;\">\n",
       "      <th></th>\n",
       "      <th>text</th>\n",
       "      <th>label</th>\n",
       "    </tr>\n",
       "  </thead>\n",
       "  <tbody>\n",
       "    <tr>\n",
       "      <th>0</th>\n",
       "      <td>Line Leak, Components:  [Pipe], Tasks: [Pipe r...</td>\n",
       "      <td>Pipe Line Replacement</td>\n",
       "    </tr>\n",
       "    <tr>\n",
       "      <th>1</th>\n",
       "      <td>Pipe Leak, Components: [Pipe], Tasks: [Erect S...</td>\n",
       "      <td>Pipe Line Replacement</td>\n",
       "    </tr>\n",
       "    <tr>\n",
       "      <th>2</th>\n",
       "      <td>Pipe Leak, Components: [] Tasks: [Perform Weld...</td>\n",
       "      <td>Pipe Repair Works</td>\n",
       "    </tr>\n",
       "    <tr>\n",
       "      <th>3</th>\n",
       "      <td>Low Seal Pot level, Components: [Seal Mechanic...</td>\n",
       "      <td>Mechanical Seal Replacement</td>\n",
       "    </tr>\n",
       "    <tr>\n",
       "      <th>4</th>\n",
       "      <td>Seal Leak,  Components: [Seal Mechanical, Gask...</td>\n",
       "      <td>Mechanical Seal Replacement</td>\n",
       "    </tr>\n",
       "    <tr>\n",
       "      <th>5</th>\n",
       "      <td>Seal Pot Level Low and Seal leak, Components: ...</td>\n",
       "      <td>Mechanical Seal Replacement</td>\n",
       "    </tr>\n",
       "    <tr>\n",
       "      <th>6</th>\n",
       "      <td>Top up seal pot, Components: [] Tasks: [Top up...</td>\n",
       "      <td>Seal Pot Top Up</td>\n",
       "    </tr>\n",
       "    <tr>\n",
       "      <th>7</th>\n",
       "      <td>Choked Strainer, Components: [] Tasks: [Clean ...</td>\n",
       "      <td>Filter Cleaning</td>\n",
       "    </tr>\n",
       "    <tr>\n",
       "      <th>8</th>\n",
       "      <td>High DP, Components: [Filter] Tasks: [Replace ...</td>\n",
       "      <td>Filter Replacement</td>\n",
       "    </tr>\n",
       "    <tr>\n",
       "      <th>9</th>\n",
       "      <td>Choked Filter, Components: [Filter] Tasks: [Re...</td>\n",
       "      <td>Filter Replacement</td>\n",
       "    </tr>\n",
       "    <tr>\n",
       "      <th>10</th>\n",
       "      <td>Replace the filter bag , Components: [Filter, ...</td>\n",
       "      <td>Filter Replacement</td>\n",
       "    </tr>\n",
       "  </tbody>\n",
       "</table>\n",
       "</div>"
      ],
      "text/plain": [
       "                                                 text  \\\n",
       "0   Line Leak, Components:  [Pipe], Tasks: [Pipe r...   \n",
       "1   Pipe Leak, Components: [Pipe], Tasks: [Erect S...   \n",
       "2   Pipe Leak, Components: [] Tasks: [Perform Weld...   \n",
       "3   Low Seal Pot level, Components: [Seal Mechanic...   \n",
       "4   Seal Leak,  Components: [Seal Mechanical, Gask...   \n",
       "5   Seal Pot Level Low and Seal leak, Components: ...   \n",
       "6   Top up seal pot, Components: [] Tasks: [Top up...   \n",
       "7   Choked Strainer, Components: [] Tasks: [Clean ...   \n",
       "8   High DP, Components: [Filter] Tasks: [Replace ...   \n",
       "9   Choked Filter, Components: [Filter] Tasks: [Re...   \n",
       "10  Replace the filter bag , Components: [Filter, ...   \n",
       "\n",
       "                          label  \n",
       "0         Pipe Line Replacement  \n",
       "1         Pipe Line Replacement  \n",
       "2             Pipe Repair Works  \n",
       "3   Mechanical Seal Replacement  \n",
       "4   Mechanical Seal Replacement  \n",
       "5   Mechanical Seal Replacement  \n",
       "6               Seal Pot Top Up  \n",
       "7               Filter Cleaning  \n",
       "8            Filter Replacement  \n",
       "9            Filter Replacement  \n",
       "10           Filter Replacement  "
      ]
     },
     "execution_count": 79,
     "metadata": {},
     "output_type": "execute_result"
    }
   ],
   "source": [
    "data"
   ]
  },
  {
   "cell_type": "code",
   "execution_count": 80,
   "id": "b6fd87b7",
   "metadata": {},
   "outputs": [
    {
     "data": {
      "text/html": [
       "<div>\n",
       "<style scoped>\n",
       "    .dataframe tbody tr th:only-of-type {\n",
       "        vertical-align: middle;\n",
       "    }\n",
       "\n",
       "    .dataframe tbody tr th {\n",
       "        vertical-align: top;\n",
       "    }\n",
       "\n",
       "    .dataframe thead th {\n",
       "        text-align: right;\n",
       "    }\n",
       "</style>\n",
       "<table border=\"1\" class=\"dataframe\">\n",
       "  <thead>\n",
       "    <tr style=\"text-align: right;\">\n",
       "      <th></th>\n",
       "      <th>text</th>\n",
       "      <th>label</th>\n",
       "    </tr>\n",
       "  </thead>\n",
       "  <tbody>\n",
       "    <tr>\n",
       "      <th>count</th>\n",
       "      <td>11</td>\n",
       "      <td>11</td>\n",
       "    </tr>\n",
       "    <tr>\n",
       "      <th>unique</th>\n",
       "      <td>11</td>\n",
       "      <td>6</td>\n",
       "    </tr>\n",
       "    <tr>\n",
       "      <th>top</th>\n",
       "      <td>Line Leak, Components:  [Pipe], Tasks: [Pipe r...</td>\n",
       "      <td>Mechanical Seal Replacement</td>\n",
       "    </tr>\n",
       "    <tr>\n",
       "      <th>freq</th>\n",
       "      <td>1</td>\n",
       "      <td>3</td>\n",
       "    </tr>\n",
       "  </tbody>\n",
       "</table>\n",
       "</div>"
      ],
      "text/plain": [
       "                                                     text  \\\n",
       "count                                                  11   \n",
       "unique                                                 11   \n",
       "top     Line Leak, Components:  [Pipe], Tasks: [Pipe r...   \n",
       "freq                                                    1   \n",
       "\n",
       "                              label  \n",
       "count                            11  \n",
       "unique                            6  \n",
       "top     Mechanical Seal Replacement  \n",
       "freq                              3  "
      ]
     },
     "execution_count": 80,
     "metadata": {},
     "output_type": "execute_result"
    }
   ],
   "source": [
    "data.describe()"
   ]
  },
  {
   "cell_type": "code",
   "execution_count": 81,
   "id": "e93769ac",
   "metadata": {},
   "outputs": [
    {
     "data": {
      "text/plain": [
       "0     Line Leak, Components:  [Pipe], Tasks: [Pipe r...\n",
       "1     Pipe Leak, Components: [Pipe], Tasks: [Erect S...\n",
       "2     Pipe Leak, Components: [] Tasks: [Perform Weld...\n",
       "3     Low Seal Pot level, Components: [Seal Mechanic...\n",
       "4     Seal Leak,  Components: [Seal Mechanical, Gask...\n",
       "5     Seal Pot Level Low and Seal leak, Components: ...\n",
       "6     Top up seal pot, Components: [] Tasks: [Top up...\n",
       "7     Choked Strainer, Components: [] Tasks: [Clean ...\n",
       "8     High DP, Components: [Filter] Tasks: [Replace ...\n",
       "9     Choked Filter, Components: [Filter] Tasks: [Re...\n",
       "10    Replace the filter bag , Components: [Filter, ...\n",
       "Name: text, dtype: object"
      ]
     },
     "execution_count": 81,
     "metadata": {},
     "output_type": "execute_result"
    }
   ],
   "source": [
    "data['text']"
   ]
  },
  {
   "cell_type": "code",
   "execution_count": 82,
   "id": "df0427f1",
   "metadata": {},
   "outputs": [
    {
     "data": {
      "text/plain": [
       "0           Pipe Line Replacement\n",
       "1           Pipe Line Replacement\n",
       "2               Pipe Repair Works\n",
       "3     Mechanical Seal Replacement\n",
       "4     Mechanical Seal Replacement\n",
       "5     Mechanical Seal Replacement\n",
       "6                 Seal Pot Top Up\n",
       "7                 Filter Cleaning\n",
       "8              Filter Replacement\n",
       "9              Filter Replacement\n",
       "10             Filter Replacement\n",
       "Name: label, dtype: object"
      ]
     },
     "execution_count": 82,
     "metadata": {},
     "output_type": "execute_result"
    }
   ],
   "source": [
    "data['label']"
   ]
  },
  {
   "cell_type": "code",
   "execution_count": null,
   "id": "665174c1",
   "metadata": {},
   "outputs": [],
   "source": []
  }
 ],
 "metadata": {
  "kernelspec": {
   "display_name": "Python 3 (ipykernel)",
   "language": "python",
   "name": "python3"
  },
  "language_info": {
   "codemirror_mode": {
    "name": "ipython",
    "version": 3
   },
   "file_extension": ".py",
   "mimetype": "text/x-python",
   "name": "python",
   "nbconvert_exporter": "python",
   "pygments_lexer": "ipython3",
   "version": "3.9.7"
  }
 },
 "nbformat": 4,
 "nbformat_minor": 5
}
