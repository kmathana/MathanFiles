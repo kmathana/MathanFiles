{
 "cells": [
  {
   "cell_type": "markdown",
   "id": "f300489c",
   "metadata": {},
   "source": [
    "## Class 7 4th Mar 2023"
   ]
  },
  {
   "cell_type": "code",
   "execution_count": 2,
   "id": "4c660487",
   "metadata": {},
   "outputs": [],
   "source": [
    "class truck():\n",
    "    def speed(self):\n",
    "        print(\"truck speed is 100 Km/hr\")\n",
    "    def fuel_cap(self):\n",
    "        print(\"fuel cap is 50 lit\")"
   ]
  },
  {
   "cell_type": "code",
   "execution_count": 5,
   "id": "ec667357",
   "metadata": {},
   "outputs": [],
   "source": [
    "class car():\n",
    "    def speed(self):\n",
    "        print(\"truck speed is 150 Km/hr\")\n",
    "    def fuel_cap(self):\n",
    "        print(\"fuel cap is 15 lit\")"
   ]
  },
  {
   "cell_type": "code",
   "execution_count": 6,
   "id": "fd0f6786",
   "metadata": {},
   "outputs": [
    {
     "name": "stdout",
     "output_type": "stream",
     "text": [
      "<__main__.truck object at 0x000002C007083490>\n"
     ]
    }
   ],
   "source": [
    "a = truck()\n",
    "\n",
    "print(a)"
   ]
  },
  {
   "cell_type": "code",
   "execution_count": 7,
   "id": "a5e27785",
   "metadata": {},
   "outputs": [
    {
     "name": "stdout",
     "output_type": "stream",
     "text": [
      "<class '__main__.truck'>\n"
     ]
    }
   ],
   "source": [
    "print(truck)"
   ]
  },
  {
   "cell_type": "code",
   "execution_count": 8,
   "id": "8d5ba2d0",
   "metadata": {},
   "outputs": [
    {
     "name": "stdout",
     "output_type": "stream",
     "text": [
      "truck speed is 100 Km/hr\n"
     ]
    }
   ],
   "source": [
    "a.speed()"
   ]
  },
  {
   "cell_type": "code",
   "execution_count": 11,
   "id": "373d6408",
   "metadata": {},
   "outputs": [
    {
     "name": "stdout",
     "output_type": "stream",
     "text": [
      "fuel cap is 50 lit\n"
     ]
    }
   ],
   "source": [
    "a.fuel_cap()"
   ]
  },
  {
   "cell_type": "code",
   "execution_count": 12,
   "id": "db9783bd",
   "metadata": {},
   "outputs": [],
   "source": [
    "b = car()"
   ]
  },
  {
   "cell_type": "code",
   "execution_count": 13,
   "id": "93b1639a",
   "metadata": {},
   "outputs": [
    {
     "name": "stdout",
     "output_type": "stream",
     "text": [
      "truck speed is 150 Km/hr\n"
     ]
    }
   ],
   "source": [
    "b.speed()"
   ]
  },
  {
   "cell_type": "code",
   "execution_count": 14,
   "id": "57195e55",
   "metadata": {},
   "outputs": [
    {
     "name": "stdout",
     "output_type": "stream",
     "text": [
      "fuel cap is 15 lit\n"
     ]
    }
   ],
   "source": [
    "b.fuel_cap()"
   ]
  },
  {
   "cell_type": "code",
   "execution_count": 1,
   "id": "4d50ea6d",
   "metadata": {},
   "outputs": [],
   "source": [
    "class calc():\n",
    "    def add(self, a, b):\n",
    "        return(a+b)\n",
    "    def sub(self, a, b):\n",
    "        return(a-b)\n",
    "    def mul(self, a, b):\n",
    "        return(a*b)\n",
    "    def div(self, a, b):\n",
    "        return(a/b)\n",
    "    "
   ]
  },
  {
   "cell_type": "code",
   "execution_count": 3,
   "id": "55e3ea60",
   "metadata": {},
   "outputs": [
    {
     "name": "stdout",
     "output_type": "stream",
     "text": [
      "9\n"
     ]
    }
   ],
   "source": [
    "obj = calc()\n",
    "a = obj.add(5,4)\n",
    "print(a)"
   ]
  },
  {
   "cell_type": "code",
   "execution_count": 4,
   "id": "d6d2f0bb",
   "metadata": {},
   "outputs": [
    {
     "name": "stdout",
     "output_type": "stream",
     "text": [
      "64\n"
     ]
    }
   ],
   "source": [
    "b = obj.mul(8,8)\n",
    "print(b)"
   ]
  },
  {
   "cell_type": "code",
   "execution_count": 8,
   "id": "2780e8ae",
   "metadata": {},
   "outputs": [],
   "source": [
    "class hotel():\n",
    "    def __init__(self,a): ## -- > Constructor or Initializer\n",
    "        self.a = a\n",
    "        \n",
    "    def floor(self):\n",
    "        if self.a == 1:\n",
    "            print(\"veg floor\")\n",
    "        elif self.a == 2:\n",
    "            print(\"Non Veg Floor\")\n",
    "    def dish(self):\n",
    "        if self.a == 1:\n",
    "            print(\"veg biryani\")\n",
    "        elif self.a == 2:\n",
    "            print(\"Non Veg biryani\")"
   ]
  },
  {
   "cell_type": "code",
   "execution_count": 9,
   "id": "8293df88",
   "metadata": {},
   "outputs": [],
   "source": [
    "a = hotel(1)"
   ]
  },
  {
   "cell_type": "code",
   "execution_count": 10,
   "id": "8935ce40",
   "metadata": {},
   "outputs": [
    {
     "name": "stdout",
     "output_type": "stream",
     "text": [
      "veg floor\n"
     ]
    }
   ],
   "source": [
    "a.floor()"
   ]
  },
  {
   "cell_type": "code",
   "execution_count": 11,
   "id": "4c32fdb6",
   "metadata": {},
   "outputs": [
    {
     "name": "stdout",
     "output_type": "stream",
     "text": [
      "veg biryani\n"
     ]
    }
   ],
   "source": [
    "a.dish()"
   ]
  },
  {
   "cell_type": "code",
   "execution_count": 12,
   "id": "cef7cf86",
   "metadata": {},
   "outputs": [
    {
     "name": "stdout",
     "output_type": "stream",
     "text": [
      "Toyota\n",
      "Prado\n",
      "2020\n"
     ]
    }
   ],
   "source": [
    "class Car:\n",
    "    def __init__(self, make, model, year):\n",
    "        self.make = make\n",
    "        self.model = model\n",
    "        self.year = year\n",
    "\n",
    "my_car = Car(\"Toyota\", \"Prado\", 2020)\n",
    "print(my_car.make) \n",
    "print(my_car.model)\n",
    "print(my_car.year)"
   ]
  },
  {
   "cell_type": "code",
   "execution_count": 13,
   "id": "784a878c",
   "metadata": {},
   "outputs": [],
   "source": [
    "class gold():\n",
    "    def __init__(self, todays_rate):\n",
    "        self.todays_rate = todays_rate\n",
    "    def bill_rate(self,gram):\n",
    "        amount = self.todays_rate * gram\n",
    "        print(f\"your bill amount is {amount}\")"
   ]
  },
  {
   "cell_type": "code",
   "execution_count": 14,
   "id": "f546f986",
   "metadata": {},
   "outputs": [
    {
     "name": "stdout",
     "output_type": "stream",
     "text": [
      "your bill amount is 50000\n"
     ]
    }
   ],
   "source": [
    "a = gold(5000)\n",
    "a.bill_rate(10)"
   ]
  },
  {
   "cell_type": "code",
   "execution_count": 16,
   "id": "184362af",
   "metadata": {},
   "outputs": [
    {
     "name": "stdout",
     "output_type": "stream",
     "text": [
      "your bill amount is 125000\n"
     ]
    }
   ],
   "source": [
    "a.bill_rate(25)"
   ]
  },
  {
   "cell_type": "code",
   "execution_count": 17,
   "id": "70d00964",
   "metadata": {},
   "outputs": [
    {
     "name": "stdout",
     "output_type": "stream",
     "text": [
      "Hello, my name is Mathan and I am 34 years old.\n"
     ]
    }
   ],
   "source": [
    "class Person:\n",
    "    def __init__(self, name, age):\n",
    "        self.name = name\n",
    "        self.age = age\n",
    "\n",
    "    def greet(self):\n",
    "        print(f\"Hello, my name is {self.name} and I am {self.age} years old.\")\n",
    "\n",
    "person = Person(\"Mathan\", 34)\n",
    "person.greet()"
   ]
  },
  {
   "cell_type": "code",
   "execution_count": 20,
   "id": "49c4df62",
   "metadata": {},
   "outputs": [],
   "source": [
    "class employee():\n",
    "    emp_ID = 1 ### Static Variable\n",
    "    \n",
    "    def __init__(self,name): ### Self.name --> instanace variable\n",
    "        self.name = name\n",
    "    def display(self, age):\n",
    "        sal = 1000\n",
    "        print(self.emp_ID)\n",
    "        print(self.name)\n",
    "        print(age)\n",
    "        print(sal)"
   ]
  },
  {
   "cell_type": "code",
   "execution_count": 22,
   "id": "a28727b4",
   "metadata": {},
   "outputs": [
    {
     "name": "stdout",
     "output_type": "stream",
     "text": [
      "1\n",
      "Mathan\n",
      "35\n",
      "1000\n"
     ]
    }
   ],
   "source": [
    "a = employee(\"Mathan\")\n",
    "a.display(35)"
   ]
  },
  {
   "cell_type": "code",
   "execution_count": 29,
   "id": "f9652f25",
   "metadata": {},
   "outputs": [],
   "source": [
    "a = [10, 20, 30, 40, 50, 60, 70, 80, 90, 100]\n",
    "def filter_and_sort_list(lst, count):\n",
    "    filtered_list = [x for x in lst if x > count]\n",
    "    sorted_list = sorted(filtered_list, reverse=True)\n",
    "    return sorted_list"
   ]
  },
  {
   "cell_type": "code",
   "execution_count": 30,
   "id": "53d963bd",
   "metadata": {},
   "outputs": [],
   "source": [
    "b = 40\n",
    "result = filter_and_sort_list(a, b)"
   ]
  },
  {
   "cell_type": "code",
   "execution_count": 31,
   "id": "63e45b2c",
   "metadata": {},
   "outputs": [
    {
     "name": "stdout",
     "output_type": "stream",
     "text": [
      "[100, 90, 80, 70, 60, 50]\n"
     ]
    }
   ],
   "source": [
    "print(result)"
   ]
  },
  {
   "cell_type": "code",
   "execution_count": null,
   "id": "8b809861",
   "metadata": {},
   "outputs": [],
   "source": []
  }
 ],
 "metadata": {
  "kernelspec": {
   "display_name": "Python 3 (ipykernel)",
   "language": "python",
   "name": "python3"
  },
  "language_info": {
   "codemirror_mode": {
    "name": "ipython",
    "version": 3
   },
   "file_extension": ".py",
   "mimetype": "text/x-python",
   "name": "python",
   "nbconvert_exporter": "python",
   "pygments_lexer": "ipython3",
   "version": "3.9.7"
  }
 },
 "nbformat": 4,
 "nbformat_minor": 5
}
